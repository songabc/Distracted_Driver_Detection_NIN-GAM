{
 "cells": [
  {
   "cell_type": "code",
   "execution_count": 1,
   "metadata": {},
   "outputs": [
    {
     "name": "stdout",
     "output_type": "stream",
     "text": [
      "22424\n"
     ]
    }
   ],
   "source": [
    "import pandas as pd\n",
    "from os import path\n",
    "from PIL import Image\n",
    "import numpy as np\n",
    "import math\n",
    "import glob\n",
    "\n",
    "def read_csv():\n",
    "    csv_data = pd.read_csv('driver_imgs_list.csv')\n",
    "    shuffle_data = csv_data.sample(frac=1).reset_index(drop=True)\n",
    "    folders = shuffle_data['classname']\n",
    "    files_name = shuffle_data['img']\n",
    "    labels = np.array(pd.get_dummies(folders))\n",
    "    paths = []\n",
    "    for i in range(len(folders)):\n",
    "        paths.append(path.join('train',folders[i],files_name[i]))\n",
    "    return np.array(paths),labels\n",
    "\n",
    "def get_batches(x,y,batch_size):\n",
    "    length = len(x)\n",
    "    n_batches = math.ceil(length / batch_size)\n",
    "    for i in range(n_batches):\n",
    "        idx = i*batch_size\n",
    "        batch_raw_images = [Image.open(item) for item in x[idx:idx+batch_size]] \n",
    "        batch_images = [(np.array(item.resize((224,224)))/255 - 0.5) for item in batch_raw_images]\n",
    "        yield batch_images,y[idx:idx+batch_size]\n",
    "        \n",
    "int_txt_dict = {\n",
    "    0:\"Normal\",\n",
    "    1:\"Texting-Right\",\n",
    "    2:\"Talking-Right\",\n",
    "    3:\"Texting-Left\",\n",
    "    4:\"Talking-Left\",\n",
    "    5:\"Tune-Radio\",\n",
    "    6:\"Drinking\",\n",
    "    7:\"Reaching-Behind\",\n",
    "    8:\"Makeup-Hair\",\n",
    "    9:\"Talking-To-Passenger\"\n",
    "}\n",
    "\n",
    "def get_test_images(batch_size):\n",
    "    test_file_path = glob.glob('./test/*.jpg')\n",
    "    file_list = [path.basename(each) for each in test_file_path]\n",
    "    length = len(test_file_path)\n",
    "    n_batches = math.ceil(length / batch_size)\n",
    "    for i in range(n_batches):\n",
    "        idx = i*batch_size\n",
    "        batch_raw_images = [Image.open(item) for item in test_file_path[idx:idx+batch_size]]\n",
    "        batch_images = [(np.array(item.resize((224,224)))/255 - 0.5) for item in batch_raw_images]\n",
    "        file_names = file_list[idx:idx+batch_size]\n",
    "        yield batch_images,file_names"
   ]
  },
  {
   "cell_type": "code",
   "execution_count": null,
   "metadata": {
    "collapsed": true
   },
   "outputs": [],
   "source": []
  }
 ],
 "metadata": {
  "kernelspec": {
   "display_name": "Python 3",
   "language": "python",
   "name": "python3"
  },
  "language_info": {
   "codemirror_mode": {
    "name": "ipython",
    "version": 3
   },
   "file_extension": ".py",
   "mimetype": "text/x-python",
   "name": "python",
   "nbconvert_exporter": "python",
   "pygments_lexer": "ipython3",
   "version": "3.5.3"
  }
 },
 "nbformat": 4,
 "nbformat_minor": 2
}
